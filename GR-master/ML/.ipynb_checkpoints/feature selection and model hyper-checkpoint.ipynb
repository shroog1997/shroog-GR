{
 "cells": [
  {
   "cell_type": "code",
   "execution_count": null,
   "metadata": {},
   "outputs": [],
   "source": [
    "import numpy as np\n",
    "import pandas as pd\n",
    "import matplotlib.pyplot as plt\n",
    "from sklearn.feature_selection import RFE\n",
    "from sklearn.tree import DecisionTreeClassifier\n",
    "from sklearn.neighbors import KNeighborsClassifier\n",
    "from sklearn.ensemble import RandomForestClassifier\n",
    "from sklearn.neural_network import MLPClassifier\n",
    "from sklearn.naive_bayes import GaussianNB\n",
    "from sklearn.svm import SVC\n",
    "from sklearn.cluster import DBSCAN\n",
    "from sklearn.linear_model import LogisticRegression\n",
    "from sklearn.model_selection import train_test_split\n",
    "from sklearn.metrics import classification_report , f1_score ,recall_score , precision_score,accuracy_score ,confusion_matrix ,roc_curve, auc, roc_auc_score\n",
    "from sklearn.model_selection import GridSearchCV\n",
    "from sklearn import metrics\n",
    "from mlxtend.feature_selection import SequentialFeatureSelector as SFS\n"
   ]
  },
  {
   "cell_type": "code",
   "execution_count": null,
   "metadata": {},
   "outputs": [],
   "source": [
    "hyper = pd.read_csv('megringaftertransfer.csv')\n",
    "\n",
    "print(hyper.head())\n",
    "print(\"dimension of Hypertension data: {}\".format(hyper.shape))\n",
    "X=hyper.drop([\"id\",'hyper'],axis=1)\n",
    "y= hyper['hyper']\n"
   ]
  },
  {
   "cell_type": "code",
   "execution_count": null,
   "metadata": {},
   "outputs": [],
   "source": [
    "X_train, X_test, y_train, y_test = train_test_split(X,y,test_size=30,random_state=1)"
   ]
  },
  {
   "cell_type": "markdown",
   "metadata": {},
   "source": [
    "# CNN"
   ]
  },
  {
   "cell_type": "code",
   "execution_count": 175,
   "metadata": {},
   "outputs": [
    {
     "name": "stdout",
     "output_type": "stream",
     "text": [
      "WARNING:tensorflow:Falling back from v2 loop because of error: Failed to find data adapter that can handle input: <class 'pandas.core.frame.DataFrame'>, <class 'NoneType'>\n",
      "Train on 399 samples\n",
      "Epoch 1/10\n",
      "399/399 [==============================] - 1s 3ms/sample - loss: 21.6877 - accuracy: 0.2381\n",
      "Epoch 2/10\n",
      "399/399 [==============================] - 1s 3ms/sample - loss: 21.6877 - accuracy: 0.2381\n",
      "Epoch 3/10\n",
      "399/399 [==============================] - 1s 3ms/sample - loss: 21.6877 - accuracy: 0.2381\n",
      "Epoch 4/10\n",
      "399/399 [==============================] - 1s 3ms/sample - loss: 21.6877 - accuracy: 0.2381\n",
      "Epoch 5/10\n",
      "399/399 [==============================] - 1s 3ms/sample - loss: 21.6877 - accuracy: 0.2381\n",
      "Epoch 6/10\n",
      "399/399 [==============================] - 1s 3ms/sample - loss: 21.6877 - accuracy: 0.2381\n",
      "Epoch 7/10\n",
      "399/399 [==============================] - 1s 2ms/sample - loss: 21.6877 - accuracy: 0.2381\n",
      "Epoch 8/10\n",
      "399/399 [==============================] - 1s 2ms/sample - loss: 21.6877 - accuracy: 0.2381\n",
      "Epoch 9/10\n",
      "399/399 [==============================] - 1s 2ms/sample - loss: 21.6877 - accuracy: 0.2381\n",
      "Epoch 10/10\n",
      "399/399 [==============================] - 1s 3ms/sample - loss: 21.6877 - accuracy: 0.2381\n",
      "WARNING:tensorflow:Falling back from v2 loop because of error: Failed to find data adapter that can handle input: <class 'pandas.core.frame.DataFrame'>, <class 'NoneType'>\n",
      "              precision    recall  f1-score   support\n",
      "\n",
      "           0       0.07      1.00      0.12         2\n",
      "           1       0.00      0.00      0.00         7\n",
      "           2       0.00      0.00      0.00        21\n",
      "\n",
      "    accuracy                           0.07        30\n",
      "   macro avg       0.02      0.33      0.04        30\n",
      "weighted avg       0.00      0.07      0.01        30\n",
      "\n",
      "WARNING:tensorflow:Falling back from v2 loop because of error: Failed to find data adapter that can handle input: <class 'pandas.core.frame.DataFrame'>, <class 'NoneType'>\n",
      "399/399 [==============================] - 0s 137us/sample - loss: 21.6877 - accuracy: 0.2381\n",
      "Accuracy: 23.81\n"
     ]
    },
    {
     "name": "stderr",
     "output_type": "stream",
     "text": [
      "C:\\ProgramData\\Anaconda3\\lib\\site-packages\\sklearn\\metrics\\classification.py:1437: UndefinedMetricWarning: Precision and F-score are ill-defined and being set to 0.0 in labels with no predicted samples.\n",
      "  'precision', 'predicted', average, warn_for)\n"
     ]
    }
   ],
   "source": [
    "from tensorflow.python.keras.layers import Dense\n",
    "from tensorflow.python.keras import Sequential\n",
    "#model\n",
    "model = Sequential()\n",
    "model.add(Dense(12, input_dim=9, activation='relu'))\n",
    "model.add(Dense(8, activation='relu'))\n",
    "model.add(Dense(1, activation='sigmoid'))\n",
    "# compile the keras model\n",
    "model.compile(loss='binary_crossentropy', optimizer='adam', metrics=['accuracy'])\n",
    "# fit the keras model on the dataset\n",
    "model.fit(X, y, epochs=10, batch_size=1)\n",
    "y_pred = model.predict(X_test)\n",
    "confusion_matrix(y_test, y_pred)\n",
    "classi=classification_report(y_test,y_pred)\n",
    "print(classi)\n",
    "# evaluate the keras model\n",
    "_, accuracy = model.evaluate(X, y)\n",
    "print('Accuracy: %.2f' % (accuracy*100))\n"
   ]
  },
  {
   "cell_type": "markdown",
   "metadata": {},
   "source": [
    "# Cross Validation"
   ]
  },
  {
   "cell_type": "code",
   "execution_count": 1,
   "metadata": {},
   "outputs": [],
   "source": [
    "from sklearn.model_selection import cross_val_score\n",
    "def crossV(model,X,y):\n",
    "    accuracy = cross_val_score(svm_class, X, y, scoring='accuracy', cv = 10).mean() * 100\n",
    "    print(\"Accuracy of svm is: \" , accuracy)\n",
    "    scores = cross_val_score( clf, X, y, cv=10, scoring='f1_macro').mean() * 100\n",
    "    print(\"f1 of svm is: \" , scores)\n",
    "\n",
    "    scores = cross_val_score( clf, X, y, cv=10, scoring='recall_macro').mean() * 100\n",
    "    print(\"recall of svm is: \" , scores)\n",
    "\n",
    "    scores = cross_val_score( clf, X, y, cv=10, scoring='precision_macro').mean() * 100\n",
    "    print(\"precision of svm is: \" , scores)\n"
   ]
  },
  {
   "cell_type": "markdown",
   "metadata": {},
   "source": [
    "# SVM"
   ]
  },
  {
   "cell_type": "code",
   "execution_count": 2,
   "metadata": {},
   "outputs": [
    {
     "name": "stdout",
     "output_type": "stream",
     "text": [
      "The result of svm before features selection:\n"
     ]
    },
    {
     "ename": "NameError",
     "evalue": "name 'X_train' is not defined",
     "output_type": "error",
     "traceback": [
      "\u001b[1;31m---------------------------------------------------------------------------\u001b[0m",
      "\u001b[1;31mNameError\u001b[0m                                 Traceback (most recent call last)",
      "\u001b[1;32m<ipython-input-2-9ddba6b5395a>\u001b[0m in \u001b[0;36m<module>\u001b[1;34m\u001b[0m\n\u001b[0;32m      9\u001b[0m     \u001b[0mprint\u001b[0m\u001b[1;33m(\u001b[0m\u001b[1;34m'Accuracy: '\u001b[0m\u001b[1;33m,\u001b[0m \u001b[0maccuracy_score\u001b[0m\u001b[1;33m(\u001b[0m\u001b[0my_test\u001b[0m\u001b[1;33m,\u001b[0m \u001b[0my_pred\u001b[0m\u001b[1;33m)\u001b[0m\u001b[1;33m,\u001b[0m \u001b[1;34m\"\\nACU: \"\u001b[0m\u001b[1;33m,\u001b[0m\u001b[0mmetrics\u001b[0m\u001b[1;33m.\u001b[0m\u001b[0mauc\u001b[0m\u001b[1;33m(\u001b[0m\u001b[0mfpr\u001b[0m\u001b[1;33m,\u001b[0m \u001b[0mtpr\u001b[0m\u001b[1;33m)\u001b[0m \u001b[1;33m)\u001b[0m\u001b[1;33m\u001b[0m\u001b[1;33m\u001b[0m\u001b[0m\n\u001b[0;32m     10\u001b[0m \u001b[0mprint\u001b[0m\u001b[1;33m(\u001b[0m\u001b[1;34m\"The result of svm before features selection:\"\u001b[0m\u001b[1;33m)\u001b[0m\u001b[1;33m\u001b[0m\u001b[1;33m\u001b[0m\u001b[0m\n\u001b[1;32m---> 11\u001b[1;33m \u001b[0mrun_svm\u001b[0m\u001b[1;33m(\u001b[0m\u001b[0mX_train\u001b[0m\u001b[1;33m,\u001b[0m \u001b[0mX_test\u001b[0m\u001b[1;33m,\u001b[0m \u001b[0my_train\u001b[0m\u001b[1;33m,\u001b[0m \u001b[0my_test\u001b[0m\u001b[1;33m)\u001b[0m\u001b[1;33m\u001b[0m\u001b[1;33m\u001b[0m\u001b[0m\n\u001b[0m\u001b[0;32m     12\u001b[0m \u001b[0mprint\u001b[0m\u001b[1;33m(\u001b[0m\u001b[1;34m\"Cross Validation:\\n\"\u001b[0m\u001b[1;33m)\u001b[0m\u001b[1;33m\u001b[0m\u001b[1;33m\u001b[0m\u001b[0m\n\u001b[0;32m     13\u001b[0m \u001b[0mcrossV\u001b[0m\u001b[1;33m(\u001b[0m\u001b[0mclf\u001b[0m\u001b[1;33m,\u001b[0m\u001b[0mX\u001b[0m\u001b[1;33m,\u001b[0m\u001b[0my\u001b[0m\u001b[1;33m)\u001b[0m\u001b[1;33m\u001b[0m\u001b[1;33m\u001b[0m\u001b[0m\n",
      "\u001b[1;31mNameError\u001b[0m: name 'X_train' is not defined"
     ]
    }
   ],
   "source": [
    "def run_svm(X_train, X_test, y_train, y_test):\n",
    "    clf = SVC(kernel='linear',random_state=42)\n",
    "    clf.fit(X_train, y_train)\n",
    "    y_pred = clf.predict(X_test)\n",
    "    confusion_matrix(y_test, y_pred)\n",
    "    classi=classification_report(y_test,y_pred)\n",
    "    print(classi)\n",
    "    fpr, tpr, thresholds = metrics.roc_curve(y_test,y_pred, pos_label=2)\n",
    "    print('Accuracy: ', accuracy_score(y_test, y_pred), \"\\nACU: \",metrics.auc(fpr, tpr) )\n",
    "print(\"The result of svm before features selection:\")\n",
    "run_svm(X_train, X_test, y_train, y_test)\n",
    "print(\"Cross Validation:\\n\")\n",
    "crossV(clf,X,y)"
   ]
  },
  {
   "cell_type": "markdown",
   "metadata": {},
   "source": [
    "# Step Forward Feature Selection (SFS)"
   ]
  },
  {
   "cell_type": "code",
   "execution_count": null,
   "metadata": {},
   "outputs": [],
   "source": [
    "for index in range(1, 10):\n",
    "    \n",
    "    sel = SFS(SVC(), k_features = index ,verbose= 0,  cv = 4, n_jobs= -1).fit(X_train, y_train)\n",
    "    X_train_rfe = sel.transform(X_train)\n",
    "    names=sel.k_feature_names_\n",
    "    print(names)\n",
    "    X_test_rfe = sel.transform(X_test)\n",
    "    print('Selected Feature: ', index)\n",
    "    run_svm(X_train_rfe, X_test_rfe, y_train, y_test)\n",
    "    print()"
   ]
  },
  {
   "cell_type": "markdown",
   "metadata": {},
   "source": [
    "# RFE"
   ]
  },
  {
   "cell_type": "code",
   "execution_count": null,
   "metadata": {},
   "outputs": [],
   "source": [
    "for index in range(1, 11):\n",
    "    sel = RFE(SVC(kernel='linear',random_state=42), n_features_to_select = index).fit(X_train, y_train)\n",
    "    s=sel.get_support()\n",
    "    print(s)\n",
    "    X_train_rfe = sel.transform(X_train)\n",
    "    X_test_rfe = sel.transform(X_test)\n",
    "    print('Selected Feature: ', index)\n",
    "    run_randomForest(X_train_rfe, X_test_rfe, y_train, y_test)\n",
    "    print()"
   ]
  },
  {
   "cell_type": "markdown",
   "metadata": {},
   "source": [
    "# MLP"
   ]
  },
  {
   "cell_type": "code",
   "execution_count": null,
   "metadata": {
    "scrolled": true
   },
   "outputs": [],
   "source": [
    "def run_ann(X_train, X_test, y_train, y_test):\n",
    "    clf = MLPClassifier(hidden_layer_sizes=(8,8,8), activation='relu', solver='adam', max_iter=500,random_state=1)\n",
    "    clf.fit(X_train, y_train)\n",
    "    y_pred = clf.predict(X_test)\n",
    "    confusion_matrix(y_test, y_pred)\n",
    "    classi=classification_report(y_test,y_pred)\n",
    "    print(classi)\n",
    "    fpr, tpr, thresholds = metrics.roc_curve(y_test,y_pred, pos_label=2)\n",
    "    print('Accuracy: ', accuracy_score(y_test, y_pred), \"\\nACU: \",metrics.auc(fpr, tpr) )\n",
    "print(\"Cross Validation:\\n\")\n",
    "crossV(clf,X,y)\n",
    "print(\"The result of ANN before features selection:\")\n",
    "run_ann(X_train, X_test, y_train, y_test)\n"
   ]
  },
  {
   "cell_type": "markdown",
   "metadata": {},
   "source": [
    "# Step Forward Feature Selection (SFS)"
   ]
  },
  {
   "cell_type": "code",
   "execution_count": null,
   "metadata": {},
   "outputs": [],
   "source": [
    "for index in range(1, 10):\n",
    "    sel = SFS(MLPClassifier(hidden_layer_sizes=(8,8,8), activation='relu', solver='adam', max_iter=500,random_state=42), k_features = index ,verbose= 0,  cv = 4, n_jobs= -1).fit(X_train, y_train)\n",
    "    X_train_rfe = sel.transform(X_train)\n",
    "    X_test_rfe = sel.transform(X_test)\n",
    "    names=sel.k_feature_names_\n",
    "    print(names)\n",
    "    print('Selected Feature: ', index)\n",
    "    run_ann(X_train_rfe, X_test_rfe, y_train, y_test)\n",
    "    print()"
   ]
  },
  {
   "cell_type": "markdown",
   "metadata": {},
   "source": [
    "# naive bayes"
   ]
  },
  {
   "cell_type": "code",
   "execution_count": null,
   "metadata": {},
   "outputs": [],
   "source": [
    "def run_nb(X_train, X_test, y_train, y_test):\n",
    "    clf = GaussianNB().fit(X_train, y_train)\n",
    "    clf.fit(X_train, y_train)\n",
    "    y_pred = clf.predict(X_test)\n",
    "    confusion_matrix(y_test, y_pred)\n",
    "    classi=classification_report(y_test,y_pred)\n",
    "    print(classi)\n",
    "    fpr, tpr, thresholds = metrics.roc_curve(y_test,y_pred, pos_label=2)\n",
    "    print('Accuracy: ', accuracy_score(y_test, y_pred), \"\\nACU: \",metrics.auc(fpr, tpr) )\n",
    "print(\"Cross Validation:\\n\")\n",
    "crossV(clf,X,y)\n",
    "print(\"The result of ANN before features selection:\")\n",
    "run_ann(X_train, X_test, y_train, y_test)"
   ]
  },
  {
   "cell_type": "markdown",
   "metadata": {},
   "source": [
    "# Step Forward Feature Selection (SFS)"
   ]
  },
  {
   "cell_type": "code",
   "execution_count": null,
   "metadata": {},
   "outputs": [],
   "source": [
    "for index in range(1, 10):\n",
    "    sel = SFS(GaussianNB(), k_features = index ,verbose= 0,  cv = 4, n_jobs= -1).fit(X_train, y_train)\n",
    "    X_train_rfe = sel.transform(X_train)\n",
    "    X_test_rfe = sel.transform(X_test)\n",
    "    names=sel.k_feature_names_\n",
    "    print(names)\n",
    "    print('Selected Feature: ', index)\n",
    "    run_nb(X_train_rfe, X_test_rfe, y_train, y_test)\n",
    "    print()"
   ]
  },
  {
   "cell_type": "markdown",
   "metadata": {},
   "source": [
    "# Knn"
   ]
  },
  {
   "cell_type": "code",
   "execution_count": null,
   "metadata": {},
   "outputs": [],
   "source": [
    "def run_knn(X_train, X_test, y_train, y_test):\n",
    "    clf = KNeighborsClassifier(n_neighbors=9).fit(X_train, y_train)\n",
    "    clf.fit(X_train, y_train)\n",
    "    y_pred = clf.predict(X_test)\n",
    "    confusion_matrix(y_test, y_pred)\n",
    "    classi=classification_report(y_test,y_pred)\n",
    "    print(classi)\n",
    "    fpr, tpr, thresholds = metrics.roc_curve(y_test,y_pred, pos_label=2)\n",
    "    print('Accuracy: ', accuracy_score(y_test, y_pred), \"\\nACU: \",metrics.auc(fpr, tpr) )\n",
    "print(\"Cross Validation:\\n\")\n",
    "crossV(clf,X,y)\n",
    "print(\"The result of ANN before features selection:\")\n",
    "run_ann(X_train, X_test, y_train, y_test)"
   ]
  },
  {
   "cell_type": "markdown",
   "metadata": {},
   "source": [
    "# Step Forward Feature Selection (SFS)"
   ]
  },
  {
   "cell_type": "code",
   "execution_count": null,
   "metadata": {},
   "outputs": [],
   "source": [
    "for index in range(1, 10):\n",
    "    sel = SFS(KNeighborsClassifier(n_neighbors=9), k_features = index ,verbose= 0,  cv = 4, n_jobs= -1).fit(X_train, y_train)\n",
    "    X_train_rfe = sel.transform(X_train)\n",
    "    X_test_rfe = sel.transform(X_test)\n",
    "    names=sel.k_feature_names_\n",
    "    print(names)\n",
    "    print('Selected Feature: ', index)\n",
    "    run_knn(X_train_rfe, X_test_rfe, y_train, y_test)\n",
    "    print()"
   ]
  },
  {
   "cell_type": "markdown",
   "metadata": {},
   "source": [
    "# DecisionTree"
   ]
  },
  {
   "cell_type": "code",
   "execution_count": null,
   "metadata": {},
   "outputs": [],
   "source": [
    "def run_DecisionTree(X_train, X_test, y_train, y_test):\n",
    "    clf = DecisionTreeClassifier(random_state=42).fit(X_train, y_train)\n",
    "    y_pred = clf.predict(X_test)\n",
    "    confusion_matrix(y_test, y_pred)\n",
    "    classi=classification_report(y_test,y_pred)\n",
    "    print(classi)\n",
    "    fpr, tpr, thresholds = metrics.roc_curve(y_test,y_pred, pos_label=2)\n",
    "    print('Accuracy: ', accuracy_score(y_test, y_pred), \"\\nACU: \",metrics.auc(fpr, tpr) )\n",
    "print(\"Cross Validation:\\n\")\n",
    "crossV(clf,X,y)\n",
    "print(\"The result of Decision Tree before features selection:\")\n",
    "run_DecisionTree(X_train, X_test, y_train, y_test)"
   ]
  },
  {
   "cell_type": "markdown",
   "metadata": {},
   "source": [
    "# Step Forward Feature Selection (SFS)"
   ]
  },
  {
   "cell_type": "code",
   "execution_count": null,
   "metadata": {},
   "outputs": [],
   "source": [
    "for index in range(1, 10):\n",
    "    sel =SFS(DecisionTreeClassifier(), k_features = index ,verbose= 0,  cv = 4, n_jobs= -1).fit(X_train, y_train)\n",
    "    X_train_rfe = sel.transform(X_train)\n",
    "    X_test_rfe = sel.transform(X_test)\n",
    "    names=sel.k_feature_names_\n",
    "    print(names)\n",
    "    print('Selected Feature: ', index)\n",
    "    run_DecisionTree(X_train_rfe, X_test_rfe, y_train, y_test)\n",
    "    print()"
   ]
  },
  {
   "cell_type": "markdown",
   "metadata": {},
   "source": [
    "# RFE"
   ]
  },
  {
   "cell_type": "code",
   "execution_count": null,
   "metadata": {},
   "outputs": [],
   "source": [
    "for index in range(1, 11):\n",
    "    sel = RFE(DecisionTreeClassifier(), n_features_to_select = index).fit(X_train, y_train)\n",
    "    s=sel.get_support()\n",
    "    print(s)\n",
    "    X_train_rfe = sel.transform(X_train)\n",
    "    X_test_rfe = sel.transform(X_test)\n",
    "    print('Selected Feature: ', index)\n",
    "    run_DecisionTree(X_train_rfe, X_test_rfe, y_train, y_test)\n",
    "    print()"
   ]
  },
  {
   "cell_type": "markdown",
   "metadata": {},
   "source": [
    "# Random Forest"
   ]
  },
  {
   "cell_type": "code",
   "execution_count": null,
   "metadata": {},
   "outputs": [],
   "source": [
    "def run_randomForest(X_train, X_test, y_train, y_test):\n",
    "    clf = RandomForestClassifier(n_estimators=100, random_state=1, n_jobs=-1)\n",
    "    clf.fit(X_train, y_train)\n",
    "    y_pred = clf.predict(X_test)\n",
    "    confusion_matrix(y_test, y_pred)\n",
    "    classi=classification_report(y_test,y_pred)\n",
    "    print(classi)\n",
    "    fpr, tpr, thresholds = metrics.roc_curve(y_test,y_pred, pos_label=2)\n",
    "    print('Accuracy: ', accuracy_score(y_test, y_pred), \"\\nACU: \",metrics.auc(fpr, tpr) )\n",
    "print(\"Cross Validation:\\n\")\n",
    "crossV(clf,X,y)\n",
    "print(\"The result of Ranodm forest before features selection:\")\n",
    "run_randomForest(X_train, X_test, y_train, y_test)"
   ]
  },
  {
   "cell_type": "markdown",
   "metadata": {},
   "source": [
    "# Step Forward Feature Selection (SFS)"
   ]
  },
  {
   "cell_type": "code",
   "execution_count": null,
   "metadata": {},
   "outputs": [],
   "source": [
    "for index in range(1, 10):\n",
    "    sel = SFS(RandomForestClassifier(n_estimators=100, random_state=42), k_features = index ,verbose= 0,  cv = 4, n_jobs= -1,scoring='accuracy').fit(X_train, y_train)\n",
    "    X_train_rfe = sel.transform(X_train)\n",
    "    X_test_rfe = sel.transform(X_test)\n",
    "    names=sel.k_feature_names_\n",
    "    print(names)\n",
    "    print('Selected Feature: ', index)\n",
    "    run_randomForest(X_train_rfe, X_test_rfe, y_train, y_test)\n",
    "    print()"
   ]
  },
  {
   "cell_type": "markdown",
   "metadata": {},
   "source": [
    "# RFE"
   ]
  },
  {
   "cell_type": "code",
   "execution_count": null,
   "metadata": {},
   "outputs": [],
   "source": [
    "for index in range(1, 11):\n",
    "    sel = RFE(RandomForestClassifier(n_estimators=100, random_state=1, n_jobs=-1), n_features_to_select = index).fit(X_train, y_train)\n",
    "    s=sel.get_support()\n",
    "    print(s)\n",
    "    X_train_rfe = sel.transform(X_train)\n",
    "    X_test_rfe = sel.transform(X_test)\n",
    "    print('Selected Feature: ', index)\n",
    "    run_randomForest(X_train_rfe, X_test_rfe, y_train, y_test)\n",
    "    print()"
   ]
  },
  {
   "cell_type": "code",
   "execution_count": null,
   "metadata": {},
   "outputs": [],
   "source": []
  }
 ],
 "metadata": {
  "kernelspec": {
   "display_name": "Python 3",
   "language": "python",
   "name": "python3"
  }
 },
 "nbformat": 4,
 "nbformat_minor": 2
}
